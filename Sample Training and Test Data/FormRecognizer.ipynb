{
 "cells": [
  {
   "cell_type": "markdown",
   "metadata": {},
   "source": [
    "## Import Libs"
   ]
  },
  {
   "cell_type": "markdown",
   "metadata": {},
   "source": [
    "## TO DO: Create param cell to define param file, input dirs, output dirs and output file"
   ]
  },
  {
   "cell_type": "code",
   "execution_count": null,
   "metadata": {
    "tags": [
     "parameters"
    ]
   },
   "outputs": [],
   "source": [
    "# DataFile\n",
    "# OutputDirectory\n"
   ]
  },
  {
   "cell_type": "code",
   "execution_count": 1,
   "metadata": {},
   "outputs": [],
   "source": [
    "import os\n",
    "from pikepdf import Pdf\n",
    "import requests\n",
    "import pandas as pd\n",
    "from pandas.io.json import json_normalize\n",
    "import json\n",
    "from PyPDF2 import PdfFileWriter, PdfFileReader\n"
   ]
  },
  {
   "cell_type": "markdown",
   "metadata": {},
   "source": [
    "## Split Files\n",
    "\n",
    "Create a dict to split every page of the PDF File\n",
    "\n",
    "TO DO: \n",
    "- Optimize file dictionary\n",
    "- Move to pyPDF???"
   ]
  },
  {
   "cell_type": "code",
   "execution_count": 11,
   "metadata": {},
   "outputs": [],
   "source": [
    "# a dictionary mapping PDF file to original PDF's page range\n",
    "file2pages = {\n",
    "    0: [0, 1], # 1st splitted PDF file will contain the pages from 0 to 9 (9 is not included)\n",
    "    1: [1, 2], # 2nd splitted PDF file will contain the pages from 9 (9 is included) to 11\n",
    "    2: [2, 3], # 3rd splitted PDF file will contain the pages from 11 until the end or until the 100th page (if exists)\n",
    "    3: [3, 4], # 3rd splitted PDF file will contain the pages from 11 until the end or until the 100th page (if exists)\n",
    "    4: [4, 5], # 3rd splitted PDF file will contain the pages from 11 until the end or until the 100th page (if exists)\n",
    "    5: [5, 6], # 3rd splitted PDF file will contain the pages from 11 until the end or until the 100th page (if exists)\n",
    "    6: [6, 7], # 3rd splitted PDF file will contain the pages from 11 until the end or until the 100th page (if exists)\n",
    "    7: [7, 8], # 3rd splitted PDF file will contain the pages from 11 until the end or until the 100th page (if exists)\n",
    "    8: [8, 9], # 3rd splitted PDF file will contain the pages from 11 until the end or until the 100th page (if exists)\n",
    "    9: [9, 10], # 3rd splitted PDF file will contain the pages from 11 until the end or until the 100th page (if exists)\n",
    "    10: [9, 10], # 3rd splitted PDF file will contain the pages from 11 until the end or until the 100th page (if exists)\n",
    "\n",
    "    11: [10,11], # 3rd splitted PDF file will contain the pages from 11 until the end or until the 100th page (if exists)\n",
    "    12: [11, 12], # 3rd splitted PDF file will contain the pages from 11 until the end or until the 100th page (if exists)\n",
    "    13: [12, 13], # 3rd splitted PDF file will contain the pages from 11 until the end or until the 100th page (if exists)\n",
    "    14: [13, 14], # 3rd splitted PDF file will contain the pages from 11 until the end or until the 100th page (if exists)\n",
    "    15: [14, 15], # 3rd splitted PDF file will contain the pages from 11 until the end or until the 100th page (if exists)\n",
    "    16: [15, 16], # 3rd splitted PDF file will contain the pages from 11 until the end or until the 100th page (if exists)\n",
    "    17: [16, 17], # 3rd splitted PDF file will contain the pages from 11 until the end or until the 100th page (if exists)\n",
    "    18: [17, 18], # 3rd splitted PDF file will contain the pages from 11 until the end or until the 100th page (if exists)\n",
    "    19: [18, 19], # 3rd splitted PDF file will contain the pages from 11 until the end or until the 100th page (if exists)\n",
    "    20: [19, 20], # 3rd splitted PDF file will contain the pages from 11 until the end or until the 100th page (if exists)\n",
    "\n",
    "\n",
    "}"
   ]
  },
  {
   "cell_type": "markdown",
   "metadata": {},
   "source": [
    "## Setup File\n",
    "\n",
    "Setup file and load it.\n",
    "Create individual files\n",
    "Iterate over the original PDF file and write it to disk\n",
    "\n",
    "TO DO: Use parameters"
   ]
  },
  {
   "cell_type": "code",
   "execution_count": 3,
   "metadata": {},
   "outputs": [],
   "source": [
    "# the target PDF document to split\n",
    "##filename = \"C:\\Users\\hcquinta\\OneDrive - Microsoft\\Documents 1\\My MSFT\\[personal]\\chasing\\source\\Catalogo 26.pdf\"\n",
    "filename = \"C:\\\\Users\\hcquinta\\\\OneDrive - Microsoft\\Documents 1\\\\My MSFT\\\\[personal]\\\\chasing\\\\source\\\\Catalogo 26.pdf\""
   ]
  },
  {
   "cell_type": "code",
   "execution_count": 13,
   "metadata": {},
   "outputs": [],
   "source": [
    "# load the PDF file\n",
    "pdf = Pdf.open(filename)"
   ]
  },
  {
   "cell_type": "code",
   "execution_count": 14,
   "metadata": {},
   "outputs": [],
   "source": [
    "# make the new splitted PDF files\n",
    "new_pdf_files = [ Pdf.new() for i in file2pages ]\n",
    "# the current pdf file index\n",
    "new_pdf_index = 0"
   ]
  },
  {
   "cell_type": "code",
   "execution_count": null,
   "metadata": {},
   "outputs": [],
   "source": [
    "# iterate over all PDF pages\n",
    "for n, page in enumerate(pdf.pages):\n",
    "    if n in list(range(*file2pages[new_pdf_index])):\n",
    "        # add the `n` page to the `new_pdf_index` file\n",
    "        new_pdf_files[new_pdf_index].pages.append(page)\n",
    "        print(f\"[*] Assigning Page {n} to the file {new_pdf_index}\")\n",
    "    else:\n",
    "        # make a unique filename based on original file name plus the index\n",
    "        name, ext = os.path.splitext(filename)\n",
    "        output_filename = f\"{name}-{new_pdf_index}.pdf\"\n",
    "        # save the PDF file\n",
    "        new_pdf_files[new_pdf_index].save(output_filename)\n",
    "        print(f\"[+] File: {output_filename} saved.\")\n",
    "        # go to the next file\n",
    "        new_pdf_index += 1\n",
    "        # add the `n` page to the `new_pdf_index` file\n",
    "        new_pdf_files[new_pdf_index].pages.append(page)\n",
    "        print(f\"[*] Assigning Page {n} to the file {new_pdf_index}\")\n",
    "\n",
    "# save the last PDF file\n",
    "name, ext = os.path.splitext(filename)\n",
    "output_filename = f\"{name}-{new_pdf_index}.pdf\"\n",
    "new_pdf_files[new_pdf_index].save(output_filename)\n",
    "print(f\"[+] File: {output_filename} saved.\")"
   ]
  },
  {
   "cell_type": "code",
   "execution_count": 35,
   "metadata": {},
   "outputs": [
    {
     "name": "stdout",
     "output_type": "stream",
     "text": [
      "['document-page0.pdf', 'document-page1.pdf', 'document-page2.pdf', 'document-page3.pdf', 'document-page4.pdf', 'document-page5.pdf', 'document-page6.pdf', 'document-page7.pdf', 'document-page8.pdf', 'document-page9.pdf']\n"
     ]
    }
   ],
   "source": [
    "# from PyPDF2 import PdfFileWriter, PdfFileReader\n",
    "fileList = list()\n",
    "inputpdf = PdfFileReader(open(filename, \"rb\"))\n",
    "\n",
    "\n",
    "for i in range(inputpdf.numPages):\n",
    "    output = PdfFileWriter()\n",
    "    output.addPage(inputpdf.getPage(i))\n",
    "    with open(\"document-page%s.pdf\" % i, \"wb\") as outputStream:\n",
    "        output.write(outputStream)\n",
    "    fileList.append(\"document-page%s.pdf\" % i)\n",
    "\n",
    "print(fileList)"
   ]
  },
  {
   "cell_type": "code",
   "execution_count": 37,
   "metadata": {},
   "outputs": [
    {
     "name": "stdout",
     "output_type": "stream",
     "text": [
      "Iterate through list: document-page0.pdf\n",
      "Iterate through list: document-page1.pdf\n",
      "Iterate through list: document-page2.pdf\n",
      "Iterate through list: document-page3.pdf\n",
      "Iterate through list: document-page4.pdf\n",
      "Iterate through list: document-page5.pdf\n",
      "Iterate through list: document-page6.pdf\n",
      "Iterate through list: document-page7.pdf\n",
      "Iterate through list: document-page8.pdf\n",
      "Iterate through list: document-page9.pdf\n"
     ]
    }
   ],
   "source": [
    " \n",
    "for e in range(len(fileList)):\n",
    "    print(\"Iterate through list:\",fileList[e])"
   ]
  },
  {
   "cell_type": "markdown",
   "metadata": {},
   "source": [
    "# Request Analysis\n",
    "\n",
    "Analysis is done async, we need to API calls, \n",
    "1. To request the analysis\n",
    "2. To request the results of the analysis\n",
    "\n",
    "- Setup the cognitive service and send PDF file for analysis\n",
    "- Get the request Id sent back by the service located in the headers (APIM Request Id)\n",
    "\n",
    "\n",
    "TO DO: \n",
    "- Loop across all the PDF files to create one single dataframe\n",
    "- File parameters\n"
   ]
  },
  {
   "cell_type": "code",
   "execution_count": 39,
   "metadata": {},
   "outputs": [
    {
     "name": "stdout",
     "output_type": "stream",
     "text": [
      "{'file': <_io.BufferedReader name='C:\\\\Users\\\\hcquinta\\\\OneDrive - Microsoft\\\\Documents 1\\\\My MSFT\\\\[personal]\\\\chasing\\\\document-page1.pdf'>}\n"
     ]
    }
   ],
   "source": [
    "url = \"https://pilotformrecognizer.cognitiveservices.azure.com/formrecognizer/documentModels/xfer-GA:analyze?api-version=2022-08-31\"\n",
    "\n",
    "payload=  {'file': open('C:\\\\Users\\hcquinta\\\\OneDrive - Microsoft\\Documents 1\\\\My MSFT\\\\[personal]\\\\chasing\\\\source\\\\Catalogo 26-9.pdf', 'rb')}\n",
    "headers = {\n",
    "  'Ocp-Apim-Subscription-Key': '44318a526a944baaaba5a6ff726fa20a',\n",
    "  'Content-Type': 'application/pdf'\n",
    "}\n",
    "\n",
    "response = requests.request(\"POST\", url, headers=headers, files=payload)\n",
    "request_id = response.headers.get('apim-request-id')\n",
    "\n",
    "\n"
   ]
  },
  {
   "cell_type": "code",
   "execution_count": null,
   "metadata": {},
   "outputs": [],
   "source": [
    "def Inference(FilePName):\n",
    "    payload=  {'file': open('%s' %filename, 'rb')}\n",
    "    response = requests.request(\"POST\", url, headers=headers, files=payload)\n"
   ]
  },
  {
   "cell_type": "code",
   "execution_count": 86,
   "metadata": {},
   "outputs": [
    {
     "name": "stdout",
     "output_type": "stream",
     "text": [
      "cc0b1c9e-64fe-4679-97af-69c6ef2e6fc5\n"
     ]
    }
   ],
   "source": [
    "print(request_id)"
   ]
  },
  {
   "cell_type": "markdown",
   "metadata": {},
   "source": [
    "# Get the API Results\n",
    "\n",
    "Using the returned request id ask the service for the results\n",
    "\n",
    "TO DO: Loop until result is available"
   ]
  },
  {
   "cell_type": "code",
   "execution_count": 87,
   "metadata": {},
   "outputs": [
    {
     "name": "stdout",
     "output_type": "stream",
     "text": [
      "{\"status\":\"succeeded\",\"createdDateTime\":\"2022-12-06T22:57:50Z\",\"lastUpdatedDateTime\":\"2022-12-06T22:57:57Z\",\"analyzeResult\":{\"apiVersion\":\"2022-08-31\",\"modelId\":\"xfer-GA\",\"stringIndexType\":\"textElements\",\"content\":\"Spyglass Brewing Company\\nSpyglass Brewing Company\\nTurbulent Flow\\n. Denk Fresh\\nDouble IPA 8.3% Ak/Vol + 1 Pint\\nKeep Coll\\nSpyglass Brewing\\nTurbulent Flow New England Style Double IPA\\nw/ Citra & Rakau hops\\nABV 8.3%\\n4.4\\n$260\",\"pages\":[{\"pageNumber\":1,\"angle\":0,\"width\":4.5,\"height\":3,\"unit\":\"inch\",\"words\":[{\"content\":\"Spyglass\",\"polygon\":[0.2536,0.9855,0.7568,0.9772,0.759,1.0956,0.2513,1.1011],\"confidence\":0.995,\"span\":{\"offset\":0,\"length\":8}},{\"content\":\"Brewing\",\"polygon\":[0.2592,1.0955,0.4918,1.0935,0.494,1.1588,0.2599,1.1568],\"confidence\":0.996,\"span\":{\"offset\":9,\"length\":7}},{\"content\":\"Company\",\"polygon\":[0.5057,1.0934,0.7608,1.0918,0.7646,1.1595,0.508,1.1588],\"confidence\":0.996,\"span\":{\"offset\":17,\"length\":7}},{\"content\":\"Spyglass\",\"polygon\":[1.3595,1.2227,1.6591,1.2138,1.6604,1.2812,1.3602,1.2925],\"confidence\":0.995,\"span\":{\"offset\":25,\"length\":8}},{\"content\":\"Brewing\",\"polygon\":[1.365,1.2856,1.5075,1.2802,1.5082,1.3221,1.3676,1.3262],\"confidence\":0.617,\"span\":{\"offset\":34,\"length\":7}},{\"content\":\"Company\",\"polygon\":[1.5161,1.2798,1.657,1.2711,1.6558,1.3217,1.5167,1.322],\"confidence\":0.646,\"span\":{\"offset\":42,\"length\":7}},{\"content\":\"Turbulent\",\"polygon\":[1.2849,1.7283,1.6156,1.7146,1.616,1.7823,1.2849,1.7904],\"confidence\":0.991,\"span\":{\"offset\":50,\"length\":9}},{\"content\":\"Flow\",\"polygon\":[1.6296,1.7139,1.7668,1.7072,1.7674,1.773,1.6301,1.7815],\"confidence\":0.989,\"span\":{\"offset\":60,\"length\":4}},{\"content\":\".\",\"polygon\":[1.0665,2.3914,1.0696,2.3926,1.053,2.4384,1.0499,2.4371],\"confidence\":0.021,\"span\":{\"offset\":65,\"length\":1}},{\"content\":\"Denk\",\"polygon\":[1.0789,2.396,1.144,2.4194,1.1281,2.4676,1.0623,2.4422],\"confidence\":0.475,\"span\":{\"offset\":67,\"length\":4}},{\"content\":\"Fresh\",\"polygon\":[1.1534,2.4226,1.2499,2.4537,1.2349,2.5029,1.1375,2.471],\"confidence\":0.997,\"span\":{\"offset\":72,\"length\":5}},{\"content\":\"Double\",\"polygon\":[1.3774,2.3985,1.5975,2.3848,1.6016,2.4529,1.3808,2.4646],\"confidence\":0.994,\"span\":{\"offset\":78,\"length\":6}},{\"content\":\"IPA\",\"polygon\":[1.6108,2.3842,1.7071,2.3799,1.7116,2.4481,1.615,2.4523],\"confidence\":0.982,\"span\":{\"offset\":85,\"length\":3}},{\"content\":\"8.3%\",\"polygon\":[1.3741,2.4764,1.4551,2.4727,1.4568,2.5199,1.3761,2.5225],\"confidence\":0.82,\"span\":{\"offset\":89,\"length\":4}},{\"content\":\"Ak/Vol\",\"polygon\":[1.4642,2.4723,1.5884,2.467,1.5895,2.5139,1.4658,2.5196],\"confidence\":0.9,\"span\":{\"offset\":94,\"length\":6}},{\"content\":\"+\",\"polygon\":[1.5975,2.4667,1.6126,2.4661,1.6137,2.5125,1.5986,2.5134],\"confidence\":0.327,\"span\":{\"offset\":101,\"length\":1}},{\"content\":\"1\",\"polygon\":[1.6217,2.4657,1.6368,2.4651,1.6378,2.5111,1.6227,2.512],\"confidence\":0.994,\"span\":{\"offset\":103,\"length\":1}},{\"content\":\"Pint\",\"polygon\":[1.6459,2.4648,1.7194,2.4621,1.72,2.5056,1.6469,2.5105],\"confidence\":0.982,\"span\":{\"offset\":105,\"length\":4}},{\"content\":\"Keep\",\"polygon\":[1.8105,2.4316,1.8642,2.394,1.8901,2.4331,1.8335,2.4707],\"confidence\":0.446,\"span\":{\"offset\":110,\"length\":4}},{\"content\":\"Coll\",\"polygon\":[1.872,2.3888,1.9169,2.359,1.9429,2.3981,1.8979,2.4279],\"confidence\":0.266,\"span\":{\"offset\":115,\"length\":4}},{\"content\":\"Spyglass\",\"polygon\":[2.615,0.1047,3.2394,0.1047,3.2394,0.2458,2.615,0.2458],\"confidence\":1,\"span\":{\"offset\":120,\"length\":8}},{\"content\":\"Brewing\",\"polygon\":[3.3143,0.106,3.8727,0.106,3.8727,0.2454,3.3143,0.2454],\"confidence\":1,\"span\":{\"offset\":129,\"length\":7}},{\"content\":\"Turbulent\",\"polygon\":[2.7543,0.3692,3.4262,0.3692,3.4262,0.475,2.7543,0.475],\"confidence\":1,\"span\":{\"offset\":137,\"length\":9}},{\"content\":\"Flow\",\"polygon\":[3.4912,0.3692,3.8021,0.3692,3.8021,0.475,3.4912,0.475],\"confidence\":1,\"span\":{\"offset\":147,\"length\":4}},{\"content\":\"New\",\"polygon\":[2.7106,0.594,2.958,0.594,2.958,0.6859,2.7106,0.6859],\"confidence\":1,\"span\":{\"offset\":152,\"length\":3}},{\"content\":\"England\",\"polygon\":[3.0142,0.594,3.4568,0.594,3.4568,0.7094,3.0142,0.7094],\"confidence\":1,\"span\":{\"offset\":156,\"length\":7}},{\"content\":\"Style\",\"polygon\":[3.5169,0.5929,3.8092,0.5929,3.8092,0.7098,3.5169,0.7098],\"confidence\":1,\"span\":{\"offset\":164,\"length\":5}},{\"content\":\"Double\",\"polygon\":[2.9536,0.7455,3.3387,0.7455,3.3387,0.8374,2.9536,0.8374],\"confidence\":1,\"span\":{\"offset\":170,\"length\":6}},{\"content\":\"IPA\",\"polygon\":[3.3985,0.7455,3.5721,0.7455,3.5721,0.8366,3.3985,0.8366],\"confidence\":1,\"span\":{\"offset\":177,\"length\":3}},{\"content\":\"w/\",\"polygon\":[2.7267,0.9314,2.8268,0.9314,2.8268,1.011,2.7267,1.011],\"confidence\":1,\"span\":{\"offset\":181,\"length\":2}},{\"content\":\"Citra\",\"polygon\":[2.8616,0.9314,3.0804,0.9314,3.0804,1.0031,2.8616,1.0031],\"confidence\":1,\"span\":{\"offset\":184,\"length\":5}},{\"content\":\"&\",\"polygon\":[3.1248,0.9314,3.1909,0.9314,3.1909,1.0032,3.1248,1.0032],\"confidence\":1,\"span\":{\"offset\":190,\"length\":1}},{\"content\":\"Rakau\",\"polygon\":[3.2291,0.9322,3.4878,0.9322,3.4878,1.0029,3.2291,1.0029],\"confidence\":1,\"span\":{\"offset\":192,\"length\":5}},{\"content\":\"hops\",\"polygon\":[3.5348,0.9322,3.7385,0.9322,3.7385,1.0209,3.5348,1.0209],\"confidence\":1,\"span\":{\"offset\":198,\"length\":4}},{\"content\":\"ABV\",\"polygon\":[2.8684,1.3744,3.1627,1.3744,3.1627,1.482,2.8684,1.482],\"confidence\":1,\"span\":{\"offset\":203,\"length\":3}},{\"content\":\"8.3%\",\"polygon\":[3.2239,1.3731,3.5872,1.3731,3.5872,1.4831,3.2239,1.4831],\"confidence\":1,\"span\":{\"offset\":207,\"length\":4}},{\"content\":\"4.4\",\"polygon\":[3.0448,1.9982,3.5222,1.9982,3.5222,2.2194,3.0448,2.2194],\"confidence\":1,\"span\":{\"offset\":212,\"length\":3}},{\"content\":\"$260\",\"polygon\":[2.6783,2.3297,3.8083,2.3297,3.8083,2.7055,2.6783,2.7055],\"confidence\":1,\"span\":{\"offset\":216,\"length\":4}}],\"lines\":[{\"content\":\"Spyglass\",\"polygon\":[0.25,0.9844,0.7617,0.9766,0.7637,1.0938,0.25,1.1016],\"spans\":[{\"offset\":0,\"length\":8}]},{\"content\":\"Brewing Company\",\"polygon\":[0.2578,1.0898,0.7656,1.0898,0.7656,1.1582,0.2578,1.1582],\"spans\":[{\"offset\":9,\"length\":15}]},{\"content\":\"Spyglass\",\"polygon\":[1.3594,1.2227,1.6582,1.2129,1.6602,1.2832,1.3594,1.293],\"spans\":[{\"offset\":25,\"length\":8}]},{\"content\":\"Brewing Company\",\"polygon\":[1.3633,1.2812,1.6562,1.2695,1.6582,1.3203,1.3652,1.3262],\"spans\":[{\"offset\":34,\"length\":15}]},{\"content\":\"Turbulent Flow\",\"polygon\":[1.2832,1.7266,1.7676,1.707,1.7695,1.7734,1.2852,1.791],\"spans\":[{\"offset\":50,\"length\":14}]},{\"content\":\". Denk Fresh\",\"polygon\":[1.0469,2.3848,1.2598,2.457,1.2422,2.5059,1.0312,2.4316],\"spans\":[{\"offset\":65,\"length\":12}]},{\"content\":\"Double IPA\",\"polygon\":[1.377,2.3945,1.7129,2.3789,1.7148,2.4453,1.3789,2.4629],\"spans\":[{\"offset\":78,\"length\":10}]},{\"content\":\"8.3% Ak/Vol + 1 Pint\",\"polygon\":[1.373,2.4746,1.7207,2.4609,1.7227,2.5059,1.375,2.5215],\"spans\":[{\"offset\":89,\"length\":20}]},{\"content\":\"Keep Coll\",\"polygon\":[1.8105,2.4316,1.9199,2.3574,1.9453,2.3965,1.834,2.4688],\"spans\":[{\"offset\":110,\"length\":9}]},{\"content\":\"Spyglass Brewing\",\"polygon\":[2.615,0.1047,3.8727,0.1047,3.8727,0.2458,2.615,0.2458],\"spans\":[{\"offset\":120,\"length\":16}]},{\"content\":\"Turbulent Flow\",\"polygon\":[2.7543,0.3692,3.8021,0.3692,3.8021,0.475,2.7543,0.475],\"spans\":[{\"offset\":137,\"length\":14}]},{\"content\":\"New England Style\",\"polygon\":[2.7106,0.5929,3.8092,0.5929,3.8092,0.7098,2.7106,0.7098],\"spans\":[{\"offset\":152,\"length\":17}]},{\"content\":\"Double IPA\",\"polygon\":[2.9536,0.7455,3.5721,0.7455,3.5721,0.8374,2.9536,0.8374],\"spans\":[{\"offset\":170,\"length\":10}]},{\"content\":\"w/ Citra & Rakau hops\",\"polygon\":[2.7267,0.9314,3.7385,0.9314,3.7385,1.0209,2.7267,1.0209],\"spans\":[{\"offset\":181,\"length\":21}]},{\"content\":\"ABV 8.3%\",\"polygon\":[2.8684,1.3731,3.5872,1.3731,3.5872,1.4831,2.8684,1.4831],\"spans\":[{\"offset\":203,\"length\":8}]},{\"content\":\"4.4\",\"polygon\":[3.0448,1.9982,3.5222,1.9982,3.5222,2.2194,3.0448,2.2194],\"spans\":[{\"offset\":212,\"length\":3}]},{\"content\":\"$260\",\"polygon\":[2.6783,2.3297,3.8083,2.3297,3.8083,2.7055,2.6783,2.7055],\"spans\":[{\"offset\":216,\"length\":4}]}],\"spans\":[{\"offset\":0,\"length\":220}],\"kind\":\"document\"}],\"tables\":[],\"styles\":[],\"documents\":[{\"docType\":\"xfer-GA\",\"boundingRegions\":[{\"pageNumber\":1,\"polygon\":[0,0,4.5,0,4.5,3,0,3]}],\"fields\":{\"brewery\":{\"type\":\"string\",\"valueString\":\"Spyglass Brewing\",\"content\":\"Spyglass Brewing\",\"boundingRegions\":[{\"pageNumber\":1,\"polygon\":[2.615,0.1047,3.8727,0.1047,3.8727,0.2458,2.615,0.2458]}],\"confidence\":0.919,\"spans\":[{\"offset\":120,\"length\":16}]},\"beer\":{\"type\":\"string\",\"valueString\":\"Turbulent Flow New England Style\",\"content\":\"Turbulent Flow New England Style\",\"boundingRegions\":[{\"pageNumber\":1,\"polygon\":[2.7106,0.3692,3.8092,0.3692,3.8092,0.7098,2.7106,0.7098]}],\"confidence\":0.533,\"spans\":[{\"offset\":137,\"length\":32}]},\"style\":{\"type\":\"string\",\"valueString\":\"Double IPA w/ Citra & Rakau hops\",\"content\":\"Double IPA\\nw/ Citra & Rakau hops\",\"boundingRegions\":[{\"pageNumber\":1,\"polygon\":[2.7267,0.7455,3.7385,0.7455,3.7385,1.0209,2.7267,1.0209]}],\"confidence\":0.381,\"spans\":[{\"offset\":170,\"length\":32}]},\"abv\":{\"type\":\"number\",\"content\":\"8.3%\",\"boundingRegions\":[{\"pageNumber\":1,\"polygon\":[3.2239,1.3731,3.5872,1.3731,3.5872,1.4831,3.2239,1.4831]}],\"confidence\":0.857,\"spans\":[{\"offset\":207,\"length\":4}]},\"untappd\":{\"type\":\"number\",\"content\":\"4.4\",\"boundingRegions\":[{\"pageNumber\":1,\"polygon\":[3.0448,1.9982,3.5222,1.9982,3.5222,2.2194,3.0448,2.2194]}],\"confidence\":0.738,\"spans\":[{\"offset\":212,\"length\":3}]},\"price\":{\"type\":\"number\",\"content\":\"$260\",\"boundingRegions\":[{\"pageNumber\":1,\"polygon\":[2.6783,2.3297,3.8083,2.3297,3.8083,2.7055,2.6783,2.7055]}],\"confidence\":0.703,\"spans\":[{\"offset\":216,\"length\":4}]}},\"confidence\":0.876,\"spans\":[{\"offset\":0,\"length\":220}]}]}}\n"
     ]
    }
   ],
   "source": [
    "\n",
    "\n",
    "#872b0e87-0b5e-4fbf-b3f2-6bb66f11a6ca\n",
    "#status = running\n",
    "# {\"status\":\"running\",\"createdDateTime\":\"2022-11-10T05:57:29Z\",\"lastUpdatedDateTime\":\"2022-11-10T05:57:29Z\"}\n",
    "# {'Content-Length': '106', 'Content-Type': 'application/json; charset=utf-8', 'x-envoy-upstream-service-time': '14', 'apim-request-id': '0c88d07b-96b8-4864-936e-897771a2b582', 'Strict-Transport-Security': 'max-age=31536000; includeSubDomains; preload', 'x-content-type-options': 'nosniff', 'x-ms-region': 'South Central US', 'Date': 'Thu, 10 Nov 2022 05:57:30 GMT'}\n",
    "\n",
    "if response.status_code == 200 or response.status_code == 202:\n",
    "\n",
    "  url = \"https://pilotformrecognizer.cognitiveservices.azure.com/formrecognizer/documentModels/xfer-GA/analyzeResults/\" + request_id + \"?api-version=2022-08-31\"\n",
    "\n",
    "  payload = \"{}\"\n",
    "  headers = {\n",
    "    'Ocp-Apim-Subscription-Key': '44318a526a944baaaba5a6ff726fa20a',\n",
    "    'Content-Type': 'application/pdf'\n",
    "  }  \n",
    "  \n",
    "  \n",
    "  response = requests.request(\"GET\", url, headers=headers, data=payload)\n",
    "  \n",
    "\n",
    "print(response.text)\n",
    "# print(response.headers)\n",
    "\n"
   ]
  },
  {
   "cell_type": "code",
   "execution_count": 79,
   "metadata": {},
   "outputs": [
    {
     "name": "stdout",
     "output_type": "stream",
     "text": [
      "{\"status\":\"succeeded\",\"createdDateTime\":\"2022-11-11T20:10:36Z\",\"lastUpdatedDateTime\":\"2022-11-11T20:10:43Z\",\"analyzeResult\":{\"apiVersion\":\"2022-08-31\",\"modelId\":\"xfer-GA\",\"stringIndexType\":\"textElements\",\"content\":\"Spyglass Brewing Company\\nSpyglass Brewing Company\\nTurbulent Flow\\n. Denk Fresh\\nDouble IPA 8.3% Ak/Vol + 1 Pint\\nKeep Coll\\nSpyglass Brewing\\nTurbulent Flow New England Style Double IPA\\nw/ Citra & Rakau hops\\nABV 8.3%\\n4.4\\n$260\",\"pages\":[{\"pageNumber\":1,\"angle\":0,\"width\":4.5,\"height\":3,\"unit\":\"inch\",\"words\":[{\"content\":\"Spyglass\",\"polygon\":[0.2536,0.9855,0.7568,0.9772,0.759,1.0956,0.2513,1.1011],\"confidence\":0.995,\"span\":{\"offset\":0,\"length\":8}},{\"content\":\"Brewing\",\"polygon\":[0.2592,1.0955,0.4918,1.0935,0.494,1.1588,0.2599,1.1568],\"confidence\":0.996,\"span\":{\"offset\":9,\"length\":7}},{\"content\":\"Company\",\"polygon\":[0.5057,1.0934,0.7608,1.0918,0.7646,1.1595,0.508,1.1588],\"confidence\":0.996,\"span\":{\"offset\":17,\"length\":7}},{\"content\":\"Spyglass\",\"polygon\":[1.3595,1.2227,1.6591,1.2138,1.6604,1.2812,1.3602,1.2925],\"confidence\":0.995,\"span\":{\"offset\":25,\"length\":8}},{\"content\":\"Brewing\",\"polygon\":[1.365,1.2856,1.5075,1.2802,1.5082,1.3221,1.3676,1.3262],\"confidence\":0.617,\"span\":{\"offset\":34,\"length\":7}},{\"content\":\"Company\",\"polygon\":[1.5161,1.2798,1.657,1.2711,1.6558,1.3217,1.5167,1.322],\"confidence\":0.646,\"span\":{\"offset\":42,\"length\":7}},{\"content\":\"Turbulent\",\"polygon\":[1.2849,1.7283,1.6156,1.7146,1.616,1.7823,1.2849,1.7904],\"confidence\":0.991,\"span\":{\"offset\":50,\"length\":9}},{\"content\":\"Flow\",\"polygon\":[1.6296,1.7139,1.7668,1.7072,1.7674,1.773,1.6301,1.7815],\"confidence\":0.989,\"span\":{\"offset\":60,\"length\":4}},{\"content\":\".\",\"polygon\":[1.0665,2.3914,1.0696,2.3926,1.053,2.4384,1.0499,2.4371],\"confidence\":0.021,\"span\":{\"offset\":65,\"length\":1}},{\"content\":\"Denk\",\"polygon\":[1.0789,2.396,1.144,2.4194,1.1281,2.4676,1.0623,2.4422],\"confidence\":0.475,\"span\":{\"offset\":67,\"length\":4}},{\"content\":\"Fresh\",\"polygon\":[1.1534,2.4226,1.2499,2.4537,1.2349,2.5029,1.1375,2.471],\"confidence\":0.997,\"span\":{\"offset\":72,\"length\":5}},{\"content\":\"Double\",\"polygon\":[1.3774,2.3985,1.5975,2.3848,1.6016,2.4529,1.3808,2.4646],\"confidence\":0.994,\"span\":{\"offset\":78,\"length\":6}},{\"content\":\"IPA\",\"polygon\":[1.6108,2.3842,1.7071,2.3799,1.7116,2.4481,1.615,2.4523],\"confidence\":0.982,\"span\":{\"offset\":85,\"length\":3}},{\"content\":\"8.3%\",\"polygon\":[1.3741,2.4764,1.4551,2.4727,1.4568,2.5199,1.3761,2.5225],\"confidence\":0.82,\"span\":{\"offset\":89,\"length\":4}},{\"content\":\"Ak/Vol\",\"polygon\":[1.4642,2.4723,1.5884,2.467,1.5895,2.5139,1.4658,2.5196],\"confidence\":0.9,\"span\":{\"offset\":94,\"length\":6}},{\"content\":\"+\",\"polygon\":[1.5975,2.4667,1.6126,2.4661,1.6137,2.5125,1.5986,2.5134],\"confidence\":0.327,\"span\":{\"offset\":101,\"length\":1}},{\"content\":\"1\",\"polygon\":[1.6217,2.4657,1.6368,2.4651,1.6378,2.5111,1.6227,2.512],\"confidence\":0.994,\"span\":{\"offset\":103,\"length\":1}},{\"content\":\"Pint\",\"polygon\":[1.6459,2.4648,1.7194,2.4621,1.72,2.5056,1.6469,2.5105],\"confidence\":0.982,\"span\":{\"offset\":105,\"length\":4}},{\"content\":\"Keep\",\"polygon\":[1.8105,2.4316,1.8642,2.394,1.8901,2.4331,1.8335,2.4707],\"confidence\":0.446,\"span\":{\"offset\":110,\"length\":4}},{\"content\":\"Coll\",\"polygon\":[1.872,2.3888,1.9169,2.359,1.9429,2.3981,1.8979,2.4279],\"confidence\":0.266,\"span\":{\"offset\":115,\"length\":4}},{\"content\":\"Spyglass\",\"polygon\":[2.615,0.1047,3.2394,0.1047,3.2394,0.2458,2.615,0.2458],\"confidence\":1,\"span\":{\"offset\":120,\"length\":8}},{\"content\":\"Brewing\",\"polygon\":[3.3143,0.106,3.8727,0.106,3.8727,0.2454,3.3143,0.2454],\"confidence\":1,\"span\":{\"offset\":129,\"length\":7}},{\"content\":\"Turbulent\",\"polygon\":[2.7543,0.3692,3.4262,0.3692,3.4262,0.475,2.7543,0.475],\"confidence\":1,\"span\":{\"offset\":137,\"length\":9}},{\"content\":\"Flow\",\"polygon\":[3.4912,0.3692,3.8021,0.3692,3.8021,0.475,3.4912,0.475],\"confidence\":1,\"span\":{\"offset\":147,\"length\":4}},{\"content\":\"New\",\"polygon\":[2.7106,0.594,2.958,0.594,2.958,0.6859,2.7106,0.6859],\"confidence\":1,\"span\":{\"offset\":152,\"length\":3}},{\"content\":\"England\",\"polygon\":[3.0142,0.594,3.4568,0.594,3.4568,0.7094,3.0142,0.7094],\"confidence\":1,\"span\":{\"offset\":156,\"length\":7}},{\"content\":\"Style\",\"polygon\":[3.5169,0.5929,3.8092,0.5929,3.8092,0.7098,3.5169,0.7098],\"confidence\":1,\"span\":{\"offset\":164,\"length\":5}},{\"content\":\"Double\",\"polygon\":[2.9536,0.7455,3.3387,0.7455,3.3387,0.8374,2.9536,0.8374],\"confidence\":1,\"span\":{\"offset\":170,\"length\":6}},{\"content\":\"IPA\",\"polygon\":[3.3985,0.7455,3.5721,0.7455,3.5721,0.8366,3.3985,0.8366],\"confidence\":1,\"span\":{\"offset\":177,\"length\":3}},{\"content\":\"w/\",\"polygon\":[2.7267,0.9314,2.8268,0.9314,2.8268,1.011,2.7267,1.011],\"confidence\":1,\"span\":{\"offset\":181,\"length\":2}},{\"content\":\"Citra\",\"polygon\":[2.8616,0.9314,3.0804,0.9314,3.0804,1.0031,2.8616,1.0031],\"confidence\":1,\"span\":{\"offset\":184,\"length\":5}},{\"content\":\"&\",\"polygon\":[3.1248,0.9314,3.1909,0.9314,3.1909,1.0032,3.1248,1.0032],\"confidence\":1,\"span\":{\"offset\":190,\"length\":1}},{\"content\":\"Rakau\",\"polygon\":[3.2291,0.9322,3.4878,0.9322,3.4878,1.0029,3.2291,1.0029],\"confidence\":1,\"span\":{\"offset\":192,\"length\":5}},{\"content\":\"hops\",\"polygon\":[3.5348,0.9322,3.7385,0.9322,3.7385,1.0209,3.5348,1.0209],\"confidence\":1,\"span\":{\"offset\":198,\"length\":4}},{\"content\":\"ABV\",\"polygon\":[2.8684,1.3744,3.1627,1.3744,3.1627,1.482,2.8684,1.482],\"confidence\":1,\"span\":{\"offset\":203,\"length\":3}},{\"content\":\"8.3%\",\"polygon\":[3.2239,1.3731,3.5872,1.3731,3.5872,1.4831,3.2239,1.4831],\"confidence\":1,\"span\":{\"offset\":207,\"length\":4}},{\"content\":\"4.4\",\"polygon\":[3.0448,1.9982,3.5222,1.9982,3.5222,2.2194,3.0448,2.2194],\"confidence\":1,\"span\":{\"offset\":212,\"length\":3}},{\"content\":\"$260\",\"polygon\":[2.6783,2.3297,3.8083,2.3297,3.8083,2.7055,2.6783,2.7055],\"confidence\":1,\"span\":{\"offset\":216,\"length\":4}}],\"lines\":[{\"content\":\"Spyglass\",\"polygon\":[0.25,0.9844,0.7617,0.9766,0.7637,1.0938,0.25,1.1016],\"spans\":[{\"offset\":0,\"length\":8}]},{\"content\":\"Brewing Company\",\"polygon\":[0.2578,1.0898,0.7656,1.0898,0.7656,1.1582,0.2578,1.1582],\"spans\":[{\"offset\":9,\"length\":15}]},{\"content\":\"Spyglass\",\"polygon\":[1.3594,1.2227,1.6582,1.2129,1.6602,1.2832,1.3594,1.293],\"spans\":[{\"offset\":25,\"length\":8}]},{\"content\":\"Brewing Company\",\"polygon\":[1.3633,1.2812,1.6562,1.2695,1.6582,1.3203,1.3652,1.3262],\"spans\":[{\"offset\":34,\"length\":15}]},{\"content\":\"Turbulent Flow\",\"polygon\":[1.2832,1.7266,1.7676,1.707,1.7695,1.7734,1.2852,1.791],\"spans\":[{\"offset\":50,\"length\":14}]},{\"content\":\". Denk Fresh\",\"polygon\":[1.0469,2.3848,1.2598,2.457,1.2422,2.5059,1.0312,2.4316],\"spans\":[{\"offset\":65,\"length\":12}]},{\"content\":\"Double IPA\",\"polygon\":[1.377,2.3945,1.7129,2.3789,1.7148,2.4453,1.3789,2.4629],\"spans\":[{\"offset\":78,\"length\":10}]},{\"content\":\"8.3% Ak/Vol + 1 Pint\",\"polygon\":[1.373,2.4746,1.7207,2.4609,1.7227,2.5059,1.375,2.5215],\"spans\":[{\"offset\":89,\"length\":20}]},{\"content\":\"Keep Coll\",\"polygon\":[1.8105,2.4316,1.9199,2.3574,1.9453,2.3965,1.834,2.4688],\"spans\":[{\"offset\":110,\"length\":9}]},{\"content\":\"Spyglass Brewing\",\"polygon\":[2.615,0.1047,3.8727,0.1047,3.8727,0.2458,2.615,0.2458],\"spans\":[{\"offset\":120,\"length\":16}]},{\"content\":\"Turbulent Flow\",\"polygon\":[2.7543,0.3692,3.8021,0.3692,3.8021,0.475,2.7543,0.475],\"spans\":[{\"offset\":137,\"length\":14}]},{\"content\":\"New England Style\",\"polygon\":[2.7106,0.5929,3.8092,0.5929,3.8092,0.7098,2.7106,0.7098],\"spans\":[{\"offset\":152,\"length\":17}]},{\"content\":\"Double IPA\",\"polygon\":[2.9536,0.7455,3.5721,0.7455,3.5721,0.8374,2.9536,0.8374],\"spans\":[{\"offset\":170,\"length\":10}]},{\"content\":\"w/ Citra & Rakau hops\",\"polygon\":[2.7267,0.9314,3.7385,0.9314,3.7385,1.0209,2.7267,1.0209],\"spans\":[{\"offset\":181,\"length\":21}]},{\"content\":\"ABV 8.3%\",\"polygon\":[2.8684,1.3731,3.5872,1.3731,3.5872,1.4831,2.8684,1.4831],\"spans\":[{\"offset\":203,\"length\":8}]},{\"content\":\"4.4\",\"polygon\":[3.0448,1.9982,3.5222,1.9982,3.5222,2.2194,3.0448,2.2194],\"spans\":[{\"offset\":212,\"length\":3}]},{\"content\":\"$260\",\"polygon\":[2.6783,2.3297,3.8083,2.3297,3.8083,2.7055,2.6783,2.7055],\"spans\":[{\"offset\":216,\"length\":4}]}],\"spans\":[{\"offset\":0,\"length\":220}],\"kind\":\"document\"}],\"tables\":[],\"styles\":[],\"documents\":[{\"docType\":\"xfer-GA\",\"boundingRegions\":[{\"pageNumber\":1,\"polygon\":[0,0,4.5,0,4.5,3,0,3]}],\"fields\":{\"brewery\":{\"type\":\"string\",\"valueString\":\"Spyglass Brewing\",\"content\":\"Spyglass Brewing\",\"boundingRegions\":[{\"pageNumber\":1,\"polygon\":[2.615,0.1047,3.8727,0.1047,3.8727,0.2458,2.615,0.2458]}],\"confidence\":0.919,\"spans\":[{\"offset\":120,\"length\":16}]},\"beer\":{\"type\":\"string\",\"valueString\":\"Turbulent Flow New England Style\",\"content\":\"Turbulent Flow New England Style\",\"boundingRegions\":[{\"pageNumber\":1,\"polygon\":[2.7106,0.3692,3.8092,0.3692,3.8092,0.7098,2.7106,0.7098]}],\"confidence\":0.533,\"spans\":[{\"offset\":137,\"length\":32}]},\"style\":{\"type\":\"string\",\"valueString\":\"Double IPA w/ Citra & Rakau hops\",\"content\":\"Double IPA\\nw/ Citra & Rakau hops\",\"boundingRegions\":[{\"pageNumber\":1,\"polygon\":[2.7267,0.7455,3.7385,0.7455,3.7385,1.0209,2.7267,1.0209]}],\"confidence\":0.381,\"spans\":[{\"offset\":170,\"length\":32}]},\"abv\":{\"type\":\"number\",\"content\":\"8.3%\",\"boundingRegions\":[{\"pageNumber\":1,\"polygon\":[3.2239,1.3731,3.5872,1.3731,3.5872,1.4831,3.2239,1.4831]}],\"confidence\":0.857,\"spans\":[{\"offset\":207,\"length\":4}]},\"untappd\":{\"type\":\"number\",\"content\":\"4.4\",\"boundingRegions\":[{\"pageNumber\":1,\"polygon\":[3.0448,1.9982,3.5222,1.9982,3.5222,2.2194,3.0448,2.2194]}],\"confidence\":0.738,\"spans\":[{\"offset\":212,\"length\":3}]},\"price\":{\"type\":\"number\",\"content\":\"$260\",\"boundingRegions\":[{\"pageNumber\":1,\"polygon\":[2.6783,2.3297,3.8083,2.3297,3.8083,2.7055,2.6783,2.7055]}],\"confidence\":0.703,\"spans\":[{\"offset\":216,\"length\":4}]}},\"confidence\":0.876,\"spans\":[{\"offset\":0,\"length\":220}]}]}}\n"
     ]
    }
   ],
   "source": [
    "\n",
    "print(response.text)\n"
   ]
  },
  {
   "cell_type": "markdown",
   "metadata": {},
   "source": [
    "## Clean up the response"
   ]
  },
  {
   "cell_type": "code",
   "execution_count": 88,
   "metadata": {},
   "outputs": [
    {
     "data": {
      "text/html": [
       "<div>\n",
       "<style scoped>\n",
       "    .dataframe tbody tr th:only-of-type {\n",
       "        vertical-align: middle;\n",
       "    }\n",
       "\n",
       "    .dataframe tbody tr th {\n",
       "        vertical-align: top;\n",
       "    }\n",
       "\n",
       "    .dataframe thead th {\n",
       "        text-align: right;\n",
       "    }\n",
       "</style>\n",
       "<table border=\"1\" class=\"dataframe\">\n",
       "  <thead>\n",
       "    <tr style=\"text-align: right;\">\n",
       "      <th></th>\n",
       "      <th>brewery</th>\n",
       "      <th>beer</th>\n",
       "      <th>style</th>\n",
       "      <th>abv</th>\n",
       "      <th>untappd</th>\n",
       "      <th>price</th>\n",
       "    </tr>\n",
       "  </thead>\n",
       "  <tbody>\n",
       "    <tr>\n",
       "      <th>content</th>\n",
       "      <td>Spyglass Brewing</td>\n",
       "      <td>Turbulent Flow New England Style</td>\n",
       "      <td>Double IPA w/ Citra &amp; Rakau hops</td>\n",
       "      <td>8.3%</td>\n",
       "      <td>4.4</td>\n",
       "      <td>$260</td>\n",
       "    </tr>\n",
       "  </tbody>\n",
       "</table>\n",
       "</div>"
      ],
      "text/plain": [
       "                  brewery                              beer  \\\n",
       "content  Spyglass Brewing  Turbulent Flow New England Style   \n",
       "\n",
       "                                    style   abv untappd price  \n",
       "content  Double IPA w/ Citra & Rakau hops  8.3%     4.4  $260  "
      ]
     },
     "execution_count": 88,
     "metadata": {},
     "output_type": "execute_result"
    }
   ],
   "source": [
    "json_data = json.loads(response.text)['analyzeResult']['documents']\n",
    "\n",
    "for item in json_data:\n",
    "    df = pd.DataFrame(item['fields'])\n",
    "\n",
    "# some cleanup to remove linebreaks\n",
    "df['style'] = df['style'].replace(to_replace= r'\\n', value= ' ', regex=True)\n",
    "\n",
    "df.loc[['content'],  ['brewery', 'beer', 'style', 'abv', 'untappd', 'price']]\n",
    "    \n"
   ]
  },
  {
   "cell_type": "markdown",
   "metadata": {},
   "source": [
    "## TO DO: Export to Excel File\n",
    "\n",
    "Export dataframe to excel file"
   ]
  },
  {
   "cell_type": "code",
   "execution_count": 22,
   "metadata": {},
   "outputs": [
    {
     "data": {
      "text/html": [
       "<div>\n",
       "<style scoped>\n",
       "    .dataframe tbody tr th:only-of-type {\n",
       "        vertical-align: middle;\n",
       "    }\n",
       "\n",
       "    .dataframe tbody tr th {\n",
       "        vertical-align: top;\n",
       "    }\n",
       "\n",
       "    .dataframe thead th {\n",
       "        text-align: right;\n",
       "    }\n",
       "</style>\n",
       "<table border=\"1\" class=\"dataframe\">\n",
       "  <thead>\n",
       "    <tr style=\"text-align: right;\">\n",
       "      <th></th>\n",
       "      <th>brewery</th>\n",
       "      <th>beer</th>\n",
       "      <th>style</th>\n",
       "      <th>abv</th>\n",
       "      <th>untappd</th>\n",
       "      <th>price</th>\n",
       "    </tr>\n",
       "  </thead>\n",
       "  <tbody>\n",
       "    <tr>\n",
       "      <th>content</th>\n",
       "      <td>Spyglass Brewing</td>\n",
       "      <td>Turbulent Flow New England Style</td>\n",
       "      <td>Double IPA w/ Citra &amp; Rakau hops</td>\n",
       "      <td>8.3%</td>\n",
       "      <td>4.4</td>\n",
       "      <td>$260</td>\n",
       "    </tr>\n",
       "  </tbody>\n",
       "</table>\n",
       "</div>"
      ],
      "text/plain": [
       "                  brewery                              beer  \\\n",
       "content  Spyglass Brewing  Turbulent Flow New England Style   \n",
       "\n",
       "                                    style   abv untappd price  \n",
       "content  Double IPA w/ Citra & Rakau hops  8.3%     4.4  $260  "
      ]
     },
     "execution_count": 22,
     "metadata": {},
     "output_type": "execute_result"
    }
   ],
   "source": [
    " df.loc[['content'],  ['brewery', 'beer', 'style', 'abv', 'untappd', 'price']].to_csv(r'c:\\diad\\deleteme.csv', index=False, header=True)\n",
    "# df.loc[['content'],  ['brewery', 'beer', 'style', 'abv', 'untappd', 'price']].to_excel(r'c:\\diad\\deleteme.xlsx', index=False, header=True)\n",
    "\n",
    "\n"
   ]
  }
 ],
 "metadata": {
  "interpreter": {
   "hash": "0a54084e6b208ee8d1ce3989ffc20924477a5f55f5a43e22e699a6741623861e"
  },
  "kernelspec": {
   "display_name": "Python 3.7.8 64-bit",
   "language": "python",
   "name": "python3"
  },
  "language_info": {
   "codemirror_mode": {
    "name": "ipython",
    "version": 3
   },
   "file_extension": ".py",
   "mimetype": "text/x-python",
   "name": "python",
   "nbconvert_exporter": "python",
   "pygments_lexer": "ipython3",
   "version": "3.7.8"
  },
  "orig_nbformat": 4
 },
 "nbformat": 4,
 "nbformat_minor": 2
}
